{
 "cells": [
  {
   "cell_type": "markdown",
   "metadata": {},
   "source": [
    "## Greedy Algorithms\n",
    "\n",
    "Provide locally optimal solution to find globaly optimal soln\n",
    "Usually can't find globally optimal soln"
   ]
  },
  {
   "cell_type": "markdown",
   "metadata": {},
   "source": [
    "## 1. Activity Selection Problem\n",
    "\n",
    "Find max activities that can be performed, given start and end times of activity.\n",
    "\n",
    "1. Sort the activities as per their finish times\n",
    "2. Start with the first activity.\n",
    "3. Do till all activities covered.\n",
    "4. If start time of current activity is greater than finish time of previous, add.\n",
    "5. End."
   ]
  },
  {
   "cell_type": "code",
   "execution_count": 5,
   "metadata": {},
   "outputs": [
    {
     "name": "stdout",
     "output_type": "stream",
     "text": [
      "Enter no of activities6\n",
      "Enter Start time of activity 11\n",
      "Enter End time of activity 12\n",
      "Enter Start time of activity 23\n",
      "Enter End time of activity 24\n",
      "Enter Start time of activity 30\n",
      "Enter End time of activity 36\n",
      "Enter Start time of activity 45\n",
      "Enter End time of activity 47\n",
      "Enter Start time of activity 58\n",
      "Enter End time of activity 59\n",
      "Enter Start time of activity 65\n",
      "Enter End time of activity 69\n",
      "Activity 1 -> Activity 2 -> Activity 4 -> Activity 5 -> "
     ]
    }
   ],
   "source": [
    "def get_end(elem):\n",
    "    return elem[1]\n",
    "n = int(input(\"Enter no of activities\"))\n",
    "actvs = []\n",
    "for i in range(n):\n",
    "    st = int(input(\"Enter Start time of activity {}\".format(i+1)))\n",
    "    end = int(input(\"Enter End time of activity {}\".format(i+1)))\n",
    "    actvs.append((st,end))\n",
    "    \n",
    "actvs = sorted(actvs,key=get_end)\n",
    "\n",
    "end_time = actvs[0][1]\n",
    "print(\"Activity 1 ->\",end =' ')\n",
    "for i in range(1,len(actvs)):\n",
    "    if actvs[i][0] >= end_time:\n",
    "        print(\"Activity {} ->\".format(i+1),end = ' ')\n",
    "        end_time = actvs[i][1]\n",
    "        "
   ]
  },
  {
   "cell_type": "markdown",
   "metadata": {},
   "source": [
    "## Kruskal's Algorithm\n",
    "\n",
    "MST \n",
    "- https://www.youtube.com/watch?v=wU6udHRIkcc&list=PLDN4rrl48XKpZkf03iYFl-O29szjTrs_O&index=17  \n",
    "- https://www.geeksforgeeks.org/kruskals-minimum-spanning-tree-algorithm-greedy-algo-2/\n",
    "\n",
    "Algo:\n",
    "1. Sort all edges in increasing order of weights.\n",
    "2. Take the smallest edge and see if it forms a cycle with the spanning tree built so far. If yes, discard edge.\n",
    "3. Repeat until there are V-1 edges in the spanning tree."
   ]
  },
  {
   "cell_type": "code",
   "execution_count": 1,
   "metadata": {},
   "outputs": [
    {
     "ename": "SyntaxError",
     "evalue": "invalid syntax (<ipython-input-1-d6bf70301883>, line 11)",
     "output_type": "error",
     "traceback": [
      "\u001b[1;36m  File \u001b[1;32m\"<ipython-input-1-d6bf70301883>\"\u001b[1;36m, line \u001b[1;32m11\u001b[0m\n\u001b[1;33m    if self.parent[u] < 0\u001b[0m\n\u001b[1;37m                         ^\u001b[0m\n\u001b[1;31mSyntaxError\u001b[0m\u001b[1;31m:\u001b[0m invalid syntax\n"
     ]
    }
   ],
   "source": [
    "class Graph:\n",
    "    def __init__(self,V):\n",
    "        self.V = V\n",
    "        self.graph = []\n",
    "        self.parent = [-1]*self.V\n",
    "        \n",
    "    def add_edge(self,src,dest,wt):\n",
    "        self.graph.append([src,dest,wt])\n",
    "        \n",
    "    def find(self,u,v):\n",
    "        if self.parent[u] > 0 or self.parent[v] > 0:\n",
    "            self.find[]\n",
    "        \n",
    "        \n",
    "        \n",
    "    def kruskal(self):\n",
    "        self.graph = sorted(self.graph,key = lambda item:item[2])\n",
    "        \n",
    "        self.find(u,v)\n",
    "        "
   ]
  },
  {
   "cell_type": "markdown",
   "metadata": {},
   "source": [
    "## Prim's Algorithm\n",
    "\n",
    "Minimum Spanning Tree\n",
    "Min edges that cover all the vertices, in min cost\n",
    "https://www.youtube.com/watch?v=PzznKcMyu0Y&list=PLqM7alHXFySESatj68JKWHRVhoJ1BxtLW&index=3 \n",
    "\n",
    "\n",
    "How?\n",
    "1. Create a table which contains rows for vertices"
   ]
  },
  {
   "cell_type": "code",
   "execution_count": null,
   "metadata": {},
   "outputs": [],
   "source": [
    "import sys\n",
    "class Graph:\n",
    "    def __init__(self,V):\n",
    "        self.vertices = V\n",
    "        self.graph = [[0 for i in range(V)] for j in range(V)]\n",
    "        \n",
    "        \n",
    "        \n",
    "    def get_min_key(self, key, mst):\n",
    "        minim = sys.maxint\n",
    "        for i in range(self.V):\n",
    "            if(key[i]<minim and mst[i] == False):\n",
    "                minim = key[i]\n",
    "                index = i\n",
    "                \n",
    "        return index\n",
    "    \n",
    "    \n",
    "    def prims(self):\n",
    "        mst = [False]*self.vertices\n",
    "        key = [sys.maxint]*self.vertices\n",
    "        parent = [None]*self.vertices\n",
    "        parent[0] = -1\n",
    "        key[0] = 0\n",
    "        \n",
    "        for i in range(self.vertices):\n",
    "            u = get_min_key(key,mst)\n",
    "            mst[u] = True\n",
    "            for v in range(self.vertices):\n",
    "                if self.graph[u][v] > 0 and mst[v] == False and key[v]>self.graph[u][v]:\n",
    "                    key[v] = self.graph[u][v]\n",
    "                    parent[v] = u\n",
    "                    "
   ]
  },
  {
   "cell_type": "markdown",
   "metadata": {},
   "source": [
    "Dijkstra's Shortest Path\n",
    "\n",
    "https://www.youtube.com/watch?v=ba4YGd7S-TY&list=PLqM7alHXFySESatj68JKWHRVhoJ1BxtLW&index=5\n",
    "\n",
    "1. Used to find min distance from source to vertex\n",
    "\n",
    "Algorithm:\n"
   ]
  },
  {
   "cell_type": "code",
   "execution_count": null,
   "metadata": {},
   "outputs": [],
   "source": [
    "class Graph:\n",
    "    def __init__(self,v):\n",
    "        self.V = v\n",
    "        self.graph = [[0 for i in range(self.V)] for j in range(self.V)]\n",
    "        \n",
    "    def get_min(self,dist,visited):\n",
    "        minim = sys.maxint\n",
    "        for i in range(self.V):\n",
    "            if dist[i]<minim and visited[i] == False:\n",
    "                minim = dist[i]\n",
    "                index = i\n",
    "                \n",
    "        return index\n",
    "    \n",
    "    def dijsktra(self):\n",
    "        visited = [False]*self.V\n",
    "        parent = [None]*self.V\n",
    "        dist = [sys.maxint]*self.V\n",
    "        dist[0] = 0\n",
    "        parent[0] = -1\n",
    "        for i in range(self.V):\n",
    "            u = get_min(dist,visited)\n",
    "            visited[u] = True\n",
    "            for v in range(self.V):\n",
    "                if (self.graph[u][v] > 0 and (dist[u] + self.graph[u][v] < dist[v]) and visited[v] == False):\n",
    "                    dist[v] = dist[u] + self.graph[u][v]\n",
    "                    parent[v] = u\n",
    "                    \n",
    "            \n",
    "        \n",
    "        \n",
    "g = Graph(4)\n",
    "g.graph = [[0,10,20,0]\n",
    "          [10,0,5,15],\n",
    "          [20,5,0,20],\n",
    "          [0,15,20,0]]\n",
    "\n",
    "g.d\n"
   ]
  },
  {
   "cell_type": "markdown",
   "metadata": {},
   "source": [
    "## Huffman Coding\n",
    "\n",
    "Used for compression of data.  \n",
    "\n",
    "References:\n",
    "- https://www.youtube.com/watch?v=4ZlRH0eK-qQ&list=PLDN4rrl48XKpZkf03iYFl-O29szjTrs_O&index=44\n",
    "\n",
    "Concept: \n",
    "- Suppose a string \"ccb\"  \n",
    "- For each character the data is stored as ASCII i.e 8 bit. So, size of data is 8*3 = 24 bit.  \n",
    "- Rather than using ASCII, we make our own codes which is dependent on the occurence of letters.  \n",
    "- Sort the letters as per occurences.\n",
    "- Join the nodes with min occurence, and merge the nodes\n"
   ]
  },
  {
   "cell_type": "markdown",
   "metadata": {},
   "source": [
    "## Dynamic Programming\n",
    "1. A method where we break down problems into smaller subproblems and store them in a lookup table so that we don't have to re calculate them.\n",
    "\n",
    "### Factorial - Normal Method ( Recursive )"
   ]
  },
  {
   "cell_type": "code",
   "execution_count": 9,
   "metadata": {},
   "outputs": [
    {
     "name": "stdout",
     "output_type": "stream",
     "text": [
      "1 1 2 3 5 8 13 21 34 55 "
     ]
    }
   ],
   "source": [
    "def fibo(n):\n",
    "    if n==0 or n==1:\n",
    "        return 1\n",
    "    else:\n",
    "        return(fibo(n-1) + fibo(n-2))\n",
    "    \n",
    "for i in range(0,10):\n",
    "    print(fibo(i),end=' ')"
   ]
  },
  {
   "cell_type": "markdown",
   "metadata": {},
   "source": [
    "Longest Common Subsequence"
   ]
  },
  {
   "cell_type": "code",
   "execution_count": 38,
   "metadata": {},
   "outputs": [
    {
     "name": "stdout",
     "output_type": "stream",
     "text": [
      "[0, 0, 0, 0, 0, 0, 0]\n",
      "[0, None, None, None, None, None, None, None]\n",
      "[0, None, None, None, None, None, None, None]\n",
      "[0, None, None, None, None, None, None, None]\n",
      "[0, None, None, None, None, None, None, None]\n",
      "[0, None, None, None, None, None, None, None]\n",
      "[0, None, None, None, None, None, None, None]\n"
     ]
    },
    {
     "ename": "IndexError",
     "evalue": "list index out of range",
     "output_type": "error",
     "traceback": [
      "\u001b[1;31m---------------------------------------------------------------------------\u001b[0m",
      "\u001b[1;31mIndexError\u001b[0m                                Traceback (most recent call last)",
      "\u001b[1;32m<ipython-input-38-f676019599e5>\u001b[0m in \u001b[0;36m<module>\u001b[1;34m()\u001b[0m\n\u001b[0;32m     34\u001b[0m \u001b[0mlcs1\u001b[0m\u001b[1;33m.\u001b[0m\u001b[0mlb\u001b[0m\u001b[1;33m\u001b[0m\u001b[0m\n\u001b[0;32m     35\u001b[0m \u001b[0mlcs1\u001b[0m\u001b[1;33m.\u001b[0m\u001b[0mprint_arr\u001b[0m\u001b[1;33m(\u001b[0m\u001b[1;33m)\u001b[0m\u001b[1;33m\u001b[0m\u001b[0m\n\u001b[1;32m---> 36\u001b[1;33m \u001b[0mlcs1\u001b[0m\u001b[1;33m.\u001b[0m\u001b[0mlcs\u001b[0m\u001b[1;33m(\u001b[0m\u001b[1;33m)\u001b[0m\u001b[1;33m\u001b[0m\u001b[0m\n\u001b[0m\u001b[0;32m     37\u001b[0m \u001b[0mlcs1\u001b[0m\u001b[1;33m.\u001b[0m\u001b[0mprint_arr\u001b[0m\u001b[1;33m(\u001b[0m\u001b[1;33m)\u001b[0m\u001b[1;33m\u001b[0m\u001b[0m\n\u001b[0;32m     38\u001b[0m \u001b[1;33m\u001b[0m\u001b[0m\n",
      "\u001b[1;32m<ipython-input-38-f676019599e5>\u001b[0m in \u001b[0;36mlcs\u001b[1;34m(self)\u001b[0m\n\u001b[0;32m     24\u001b[0m                     \u001b[0mself\u001b[0m\u001b[1;33m.\u001b[0m\u001b[0marr\u001b[0m\u001b[1;33m[\u001b[0m\u001b[0mi\u001b[0m\u001b[1;33m]\u001b[0m\u001b[1;33m[\u001b[0m\u001b[0mj\u001b[0m\u001b[1;33m]\u001b[0m \u001b[1;33m=\u001b[0m \u001b[0mself\u001b[0m\u001b[1;33m.\u001b[0m\u001b[0marr\u001b[0m\u001b[1;33m[\u001b[0m\u001b[0mi\u001b[0m\u001b[1;33m-\u001b[0m\u001b[1;36m1\u001b[0m\u001b[1;33m]\u001b[0m\u001b[1;33m[\u001b[0m\u001b[0mj\u001b[0m\u001b[1;33m-\u001b[0m\u001b[1;36m1\u001b[0m\u001b[1;33m]\u001b[0m \u001b[1;33m+\u001b[0m \u001b[1;36m1\u001b[0m\u001b[1;33m\u001b[0m\u001b[0m\n\u001b[0;32m     25\u001b[0m                 \u001b[1;32melse\u001b[0m\u001b[1;33m:\u001b[0m\u001b[1;33m\u001b[0m\u001b[0m\n\u001b[1;32m---> 26\u001b[1;33m                     \u001b[0mself\u001b[0m\u001b[1;33m.\u001b[0m\u001b[0marr\u001b[0m\u001b[1;33m[\u001b[0m\u001b[0mi\u001b[0m\u001b[1;33m]\u001b[0m\u001b[1;33m[\u001b[0m\u001b[0mj\u001b[0m\u001b[1;33m]\u001b[0m \u001b[1;33m=\u001b[0m \u001b[0mmax\u001b[0m\u001b[1;33m(\u001b[0m\u001b[0mself\u001b[0m\u001b[1;33m.\u001b[0m\u001b[0marr\u001b[0m\u001b[1;33m[\u001b[0m\u001b[0mi\u001b[0m\u001b[1;33m]\u001b[0m\u001b[1;33m[\u001b[0m\u001b[0mj\u001b[0m\u001b[1;33m-\u001b[0m\u001b[1;36m1\u001b[0m\u001b[1;33m]\u001b[0m\u001b[1;33m,\u001b[0m\u001b[0mself\u001b[0m\u001b[1;33m.\u001b[0m\u001b[0marr\u001b[0m\u001b[1;33m[\u001b[0m\u001b[0mi\u001b[0m\u001b[1;33m-\u001b[0m\u001b[1;36m1\u001b[0m\u001b[1;33m]\u001b[0m\u001b[1;33m[\u001b[0m\u001b[0mj\u001b[0m\u001b[1;33m]\u001b[0m\u001b[1;33m)\u001b[0m\u001b[1;33m\u001b[0m\u001b[0m\n\u001b[0m\u001b[0;32m     27\u001b[0m \u001b[1;33m\u001b[0m\u001b[0m\n\u001b[0;32m     28\u001b[0m \u001b[1;33m\u001b[0m\u001b[0m\n",
      "\u001b[1;31mIndexError\u001b[0m: list index out of range"
     ]
    }
   ],
   "source": []
  },
  {
   "cell_type": "code",
   "execution_count": 45,
   "metadata": {},
   "outputs": [
    {
     "name": "stdout",
     "output_type": "stream",
     "text": [
      "[0, 0, 0, 0, 0, 0, 0]\n",
      "[0, 0, 0, 0, 0, 1, 1, None]\n",
      "[0, None, None, None, None, None, None, None]\n",
      "[0, None, None, None, None, None, None, None]\n",
      "[0, None, None, None, None, None, None, None]\n",
      "[0, None, None, None, None, None, None, None]\n",
      "[0, None, None, None, None, None, None, None]\n"
     ]
    },
    {
     "data": {
      "text/plain": [
       "0"
      ]
     },
     "execution_count": 45,
     "metadata": {},
     "output_type": "execute_result"
    }
   ],
   "source": [
    "lcs1.print_arr()\n",
    "\n",
    "lcs1.arr[1][2]"
   ]
  },
  {
   "cell_type": "markdown",
   "metadata": {},
   "source": [
    "### Minimum cost in a matrix for 0,0 to m,n ( Dynamic Programming )\n",
    "1. Create a matrix of m,n and initialize to 0.\n",
    "2. Fill out the First Row and the First Column ( How? )\n",
    "    1. Copy the cost of first element.\n",
    "    2. Run a for loop for the first col and calc the min cost ( above cost + curr val )\n",
    "    3. Run a for loop for the first row and calc the min cost ( left cost + curr val )\n",
    "    4. Run a for loop for rest of the matrix and fill in the min from diagonal,left,top.\n",
    "3. Done!\n",
    "\n",
    "(Write Code)\n",
    "\n",
    "References: https://www.youtube.com/watch?v=aZNrXG4VqzA"
   ]
  },
  {
   "cell_type": "markdown",
   "metadata": {},
   "source": [
    "## Coin Change Problem\n",
    "\n",
    "References: https://www.youtube.com/watch?v=ZaVM057DuzE&feature=youtu.be"
   ]
  },
  {
   "cell_type": "markdown",
   "metadata": {},
   "source": [
    "## Longest Common Subsequence\n",
    "\n",
    "Given 2 strings, find the longest subsequence.\n",
    "\n",
    "For example:\n",
    "\n",
    "String a: \"abcd\"\n",
    "String b: \"bd\"\n",
    "\n",
    "LCS : \"bd\"\n",
    "\n",
    "Algorithm:\n",
    "1. Make a table of len(a) + 1 rows and len(b) + 1 cols.\n",
    "2. Fill first row and first col with 0s.\n",
    "3. For each position in table:\n",
    "       if str(i) == str(j):\n",
    "        1. table[i][j] = 1 + table[i-1][j-1]\n",
    "       else:\n",
    "        1. table[i][j] = max(table[i-1][j],table[i][j-1])\n",
    "        \n",
    "To print the subsequence:\n",
    "1. Start from m,n position.\n",
    "2. if letter match,print and move diagonally behind,\n",
    "3. if not, move in the direction of largest from left, top."
   ]
  },
  {
   "cell_type": "markdown",
   "metadata": {},
   "source": [
    "## Longest Increasing Subsequence\n",
    "\n",
    "References: https://www.youtube.com/watch?v=E6us4nmXTHs  \n",
    "\n",
    "Create 2 arrays,  \n",
    "One for storing the length of subsequences,  \n",
    "Other for storing the the last index of subsequence.\n",
    "\n"
   ]
  },
  {
   "cell_type": "code",
   "execution_count": 13,
   "metadata": {},
   "outputs": [
    {
     "name": "stdout",
     "output_type": "stream",
     "text": [
      "6\n",
      "11\n",
      "[1, 2, 3, 2, 3, 3, 4, 5, 3, 5, 4, 6]\n",
      "[None, 0, 1, 0, 1, 1, 5, 6, 3, 6, 5, 7]\n",
      "7\n",
      "6\n",
      "5\n",
      "1\n",
      "0\n",
      "0\n"
     ]
    }
   ],
   "source": [
    "a = [0,4,12,2,10,6,9,13,3,11,7,15]\n",
    "n = len(a)\n",
    "\n",
    "length = [1]*n\n",
    "ind = [None]*n\n",
    "\n",
    "for i in range(1,n):\n",
    "    for j in range(i):\n",
    "        if a[i] > a[j]  and length[i]< length[j] + 1:\n",
    "            length[i] = max(length[j] + 1, length[i])\n",
    "            ind[i] = j\n",
    "    \n",
    "\n",
    "print(max(length))\n",
    "maxx = length.index(max(length))\n",
    "print(maxx)\n",
    "print(length)\n",
    "print(ind)\n",
    "ind[0] = 0\n",
    "\n",
    "for i in range(max(length)):\n",
    "#     print(a[maxx])\n",
    "    maxx = ind[maxx]\n",
    "    print(maxx)\n",
    "    \n",
    "    \n"
   ]
  },
  {
   "cell_type": "markdown",
   "metadata": {},
   "source": [
    "## Edit Distance\n",
    "\n",
    "Algorithm:\n",
    "\n",
    "Concept : Minimum no of edits to be taken(insert,remove,modify) each having the same cost to convert str1(length=n) to str2(length=m).  \n",
    "\n",
    "Base condition : if either string has length 0, number of edits are the length of either string.\n",
    "\n",
    "References: https://www.geeksforgeeks.org/edit-distance-dp-5/\n",
    "\n",
    "The recursive solution has overlapping subproblems, hence use DP."
   ]
  },
  {
   "cell_type": "code",
   "execution_count": 1,
   "metadata": {},
   "outputs": [
    {
     "name": "stdout",
     "output_type": "stream",
     "text": [
      "3\n"
     ]
    }
   ],
   "source": [
    "a = \"sunday\"\n",
    "b = \"saturday\"\n",
    "\n",
    "m = len(a)\n",
    "n = len(b)\n",
    "dp = [[None for i in range(n+1)] for j in range(m+1)]\n",
    "\n",
    "for i in range(m+1):\n",
    "    for j in range(n+1):\n",
    "        # Condition if any string has length 0.\n",
    "        if i==0:\n",
    "            dp[i][j] = j\n",
    "        \n",
    "        elif j == 0:\n",
    "            dp[i][j] = i\n",
    "            \n",
    "        elif a[i-1] == b[j-1]:\n",
    "            dp[i][j] = dp[i-1][j-1]\n",
    "        else:\n",
    "            dp[i][j] = 1 + min(dp[i-1][j-1],dp[i-1][j],dp[i][j-1])\n",
    "            \n",
    "\n",
    "print(dp[m][n])\n",
    "            "
   ]
  },
  {
   "cell_type": "markdown",
   "metadata": {},
   "source": [
    "## Sum of Subset\n",
    "\n",
    "Base conditions:\n",
    "1. Sum of subset exists if sum=0\n",
    "2. Sum of subset doesn't exist if n==0 and sum!=0"
   ]
  },
  {
   "cell_type": "code",
   "execution_count": 6,
   "metadata": {},
   "outputs": [
    {
     "name": "stdout",
     "output_type": "stream",
     "text": [
      "False\n"
     ]
    }
   ],
   "source": [
    "a = [1,2,3,4,5]\n",
    "n = len(a)\n",
    "summ = 19\n",
    "\n",
    "dp = [[False for i in range(summ+1)] for j in range(n+1)]\n",
    "\n",
    "for i in range(n+1):\n",
    "    for j in range(summ+1):\n",
    "        if j == 0:\n",
    "            dp[i][j] = True\n",
    "        elif i == 0 and j>0:\n",
    "            dp[i][j] = False\n",
    "        elif j< a[i-1]:\n",
    "            dp[i][j] = dp[i-1][j]\n",
    "        elif j>=a[i-1]:\n",
    "            dp[i][j] = dp[i-1][j] or dp[i-1][j - a[i-1]]\n",
    "            \n",
    "print(dp[n][summ])"
   ]
  },
  {
   "cell_type": "markdown",
   "metadata": {},
   "source": []
  }
 ],
 "metadata": {
  "kernelspec": {
   "display_name": "Python 3",
   "language": "python",
   "name": "python3"
  },
  "language_info": {
   "codemirror_mode": {
    "name": "ipython",
    "version": 3
   },
   "file_extension": ".py",
   "mimetype": "text/x-python",
   "name": "python",
   "nbconvert_exporter": "python",
   "pygments_lexer": "ipython3",
   "version": "3.6.8"
  }
 },
 "nbformat": 4,
 "nbformat_minor": 2
}
